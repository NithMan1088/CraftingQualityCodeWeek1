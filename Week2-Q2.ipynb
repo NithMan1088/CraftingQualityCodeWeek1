{
 "cells": [
  {
   "cell_type": "markdown",
   "metadata": {},
   "source": [
    "A string s1 is an anagram of string s2 if its letters can be rearranged to form s2. For example,listen is an anagram of silent and admirer is an anagram of married. For this question, a word is considered to be an anagram of itself.\n",
    "\n",
    "Select the algorithm(s) that can be used to implement is_anagram."
   ]
  },
  {
   "cell_type": "markdown",
   "metadata": {},
   "source": [
    "#Option A\n",
    "\n",
    "1. Create a dictionary d1 in which each key is a letter from s1 and each value is the number of occurences of that letter in s1.\n",
    "\n",
    "2. Create a dictionary d2 in which each key is a letter from s2 and each value is the number of occurences of that letter in s2.\n",
    "\n",
    "3. if d1 == d2"
   ]
  },
  {
   "cell_type": "code",
   "execution_count": 45,
   "metadata": {},
   "outputs": [],
   "source": [
    "def is_anagram(s1, s2):\n",
    "    \n",
    "    d1 = {}\n",
    "    d2 = {}\n",
    "    \n",
    "    for i in range(len(s1)):\n",
    "        d1[list(s1)[i]] = s1.count(list(s1)[i])\n",
    "        \n",
    "    for i in range(len(s2)):\n",
    "        d2[list(s2)[i]] = s2.count(list(s2)[i])\n",
    "        \n",
    "        \n",
    "    return d1 == d2\n"
   ]
  },
  {
   "cell_type": "code",
   "execution_count": 46,
   "metadata": {},
   "outputs": [
    {
     "data": {
      "text/plain": [
       "True"
      ]
     },
     "execution_count": 46,
     "metadata": {},
     "output_type": "execute_result"
    }
   ],
   "source": [
    "#Examples\n",
    "\n",
    "is_anagram('silent','listen')"
   ]
  },
  {
   "cell_type": "code",
   "execution_count": 47,
   "metadata": {},
   "outputs": [
    {
     "data": {
      "text/plain": [
       "False"
      ]
     },
     "execution_count": 47,
     "metadata": {},
     "output_type": "execute_result"
    }
   ],
   "source": [
    "is_anagram('gait','tag')"
   ]
  },
  {
   "cell_type": "code",
   "execution_count": null,
   "metadata": {},
   "outputs": [],
   "source": [
    "#Option A is correct"
   ]
  },
  {
   "cell_type": "markdown",
   "metadata": {},
   "source": [
    "#Option B\n",
    "\n",
    "1. Create a list of the characters in s1\n",
    "\n",
    "2. Create a list of the characters in s2\n",
    "\n",
    "3. For each item in the list of characters from s1, remove one occurrence of that item from the list of characters from s2  (if it exists)\n",
    "\n",
    "4. If the list of characters from s2 becomes empty, s1 is an anagram of s2"
   ]
  },
  {
   "cell_type": "code",
   "execution_count": 48,
   "metadata": {},
   "outputs": [],
   "source": [
    "def is_anagram(s1, s2):\n",
    "    \n",
    "    L1 = list(s1)\n",
    "    L2 = list(s2)\n",
    "    \n",
    "    for i in range(len(L1)):\n",
    "        \n",
    "        if L1[i] in L2:\n",
    "            L2.remove(L1[i])\n",
    "             \n",
    "    \n",
    "    return L2 == []"
   ]
  },
  {
   "cell_type": "code",
   "execution_count": 49,
   "metadata": {},
   "outputs": [
    {
     "data": {
      "text/plain": [
       "True"
      ]
     },
     "execution_count": 49,
     "metadata": {},
     "output_type": "execute_result"
    }
   ],
   "source": [
    "is_anagram('listen','silent')"
   ]
  },
  {
   "cell_type": "code",
   "execution_count": 50,
   "metadata": {},
   "outputs": [
    {
     "data": {
      "text/plain": [
       "True"
      ]
     },
     "execution_count": 50,
     "metadata": {},
     "output_type": "execute_result"
    }
   ],
   "source": [
    "is_anagram('listen','sil')"
   ]
  },
  {
   "cell_type": "code",
   "execution_count": null,
   "metadata": {},
   "outputs": [],
   "source": [
    "#Option B is incorrect"
   ]
  },
  {
   "cell_type": "markdown",
   "metadata": {},
   "source": [
    "#Option C\n",
    "\n",
    "1. Create a list L1 of the characters in s1\n",
    "\n",
    "2. Create a list L2 of the characters in s2\n",
    "\n",
    "3. Sort both lists\n",
    "\n",
    "4. if L1 == L2, s1 is an anagram of s2"
   ]
  },
  {
   "cell_type": "code",
   "execution_count": 58,
   "metadata": {},
   "outputs": [],
   "source": [
    "def is_anagram(s1,s2):\n",
    "    \n",
    "    L1 = list(s1)\n",
    "    L2 = list(s2)\n",
    "    \n",
    "    L1.sort()\n",
    "    L2.sort()\n",
    "    \n",
    "    if L1 == L2:\n",
    "        return True\n",
    "    \n",
    "    else:\n",
    "        return False"
   ]
  },
  {
   "cell_type": "code",
   "execution_count": 60,
   "metadata": {},
   "outputs": [
    {
     "data": {
      "text/plain": [
       "False"
      ]
     },
     "execution_count": 60,
     "metadata": {},
     "output_type": "execute_result"
    }
   ],
   "source": [
    "is_anagram('silent','listens')"
   ]
  },
  {
   "cell_type": "code",
   "execution_count": 62,
   "metadata": {},
   "outputs": [
    {
     "data": {
      "text/plain": [
       "False"
      ]
     },
     "execution_count": 62,
     "metadata": {},
     "output_type": "execute_result"
    }
   ],
   "source": [
    "is_anagram('silents','listen')"
   ]
  },
  {
   "cell_type": "code",
   "execution_count": null,
   "metadata": {},
   "outputs": [],
   "source": [
    "#Option C is correct"
   ]
  },
  {
   "cell_type": "markdown",
   "metadata": {},
   "source": [
    "#Option D\n",
    "\n",
    "1. For each letter in s1, count the number of occurrences of the letter in s1 and count the number of occurrences of the letter in s2. If each letter in s1 occurs the same number of times in s1 and s2, then s1 is an anagram of s2."
   ]
  },
  {
   "cell_type": "code",
   "execution_count": null,
   "metadata": {},
   "outputs": [],
   "source": []
  }
 ],
 "metadata": {
  "kernelspec": {
   "display_name": "Python 3",
   "language": "python",
   "name": "python3"
  },
  "language_info": {
   "codemirror_mode": {
    "name": "ipython",
    "version": 3
   },
   "file_extension": ".py",
   "mimetype": "text/x-python",
   "name": "python",
   "nbconvert_exporter": "python",
   "pygments_lexer": "ipython3",
   "version": "3.6.4"
  }
 },
 "nbformat": 4,
 "nbformat_minor": 2
}
