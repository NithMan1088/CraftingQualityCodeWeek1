{
 "cells": [
  {
   "cell_type": "markdown",
   "metadata": {},
   "source": [
    "Consider this code:\n",
    "\n",
    "    def count_startswith(L,ch):\n",
    "    \n",
    "        '''\n",
    "        Precondition:length of each item in L is >= 1, and len(ch) == 1\n",
    "        \n",
    "        Return the number of strings in L that begin with ch.\n",
    "        \n",
    "        '''\n",
    "        \n",
    "        ch_strings = []\n",
    "        \n",
    "        for item in L:        \n",
    "            if item[0] == ch:\n",
    "                ch_strings.append(item)\n",
    "                \n",
    "        return len(ch_strings)\n",
    "        \n",
    "        \n",
    "Select the algorithm that best describes the approach taken in the function defined above.\n"
   ]
  },
  {
   "cell_type": "markdown",
   "metadata": {},
   "source": [
    "#Option A\n",
    "\n",
    "1. Use an integer accumulator.\n",
    "2. For each item in L, if the item begins with ch, add 1 to the accumulator.\n",
    "3. Return the accumulator.\n"
   ]
  },
  {
   "cell_type": "code",
   "execution_count": 3,
   "metadata": {},
   "outputs": [],
   "source": [
    " def count_startswith(L,ch):\n",
    "        \n",
    "        sum = 0\n",
    "        \n",
    "        for item in L:\n",
    "            if item[0] == ch:\n",
    "                sum +=1\n",
    "                \n",
    "        return sum"
   ]
  },
  {
   "cell_type": "code",
   "execution_count": 4,
   "metadata": {},
   "outputs": [
    {
     "data": {
      "text/plain": [
       "2"
      ]
     },
     "execution_count": 4,
     "metadata": {},
     "output_type": "execute_result"
    }
   ],
   "source": [
    "count_startswith(['man','fan','mint'],'m')"
   ]
  },
  {
   "cell_type": "code",
   "execution_count": 5,
   "metadata": {},
   "outputs": [
    {
     "data": {
      "text/plain": [
       "0"
      ]
     },
     "execution_count": 5,
     "metadata": {},
     "output_type": "execute_result"
    }
   ],
   "source": [
    "count_startswith(['native','early','bird'],'c')"
   ]
  },
  {
   "cell_type": "code",
   "execution_count": 31,
   "metadata": {},
   "outputs": [],
   "source": [
    "#Option A is correct but doesnt describe the same algorithm as shown in the question"
   ]
  },
  {
   "cell_type": "markdown",
   "metadata": {},
   "source": []
  },
  {
   "cell_type": "markdown",
   "metadata": {},
   "source": [
    "#Option B\n",
    "\n",
    "1. Create a new list that contains the same values as L.\n",
    "2. For each item in L, if the item does not begin with ch, remove it from the new list.\n",
    "3. Return the length of the new list.\n"
   ]
  },
  {
   "cell_type": "code",
   "execution_count": 28,
   "metadata": {},
   "outputs": [],
   "source": [
    " def count_startswith(L,ch):\n",
    "        \n",
    "        List = L\n",
    "        \n",
    "        for item in L:\n",
    "            if item[0] != ch:\n",
    "                List.remove(item)\n",
    "                \n",
    "        return len(List)"
   ]
  },
  {
   "cell_type": "code",
   "execution_count": 29,
   "metadata": {},
   "outputs": [
    {
     "data": {
      "text/plain": [
       "2"
      ]
     },
     "execution_count": 29,
     "metadata": {},
     "output_type": "execute_result"
    }
   ],
   "source": [
    "count_startswith(['cat','car','bat'],'c')"
   ]
  },
  {
   "cell_type": "code",
   "execution_count": 30,
   "metadata": {},
   "outputs": [
    {
     "data": {
      "text/plain": [
       "1"
      ]
     },
     "execution_count": 30,
     "metadata": {},
     "output_type": "execute_result"
    }
   ],
   "source": [
    "count_startswith(['tat','sat','rat'],'c')"
   ]
  },
  {
   "cell_type": "code",
   "execution_count": 14,
   "metadata": {},
   "outputs": [],
   "source": [
    "#Option B is incorrect"
   ]
  },
  {
   "cell_type": "code",
   "execution_count": null,
   "metadata": {},
   "outputs": [],
   "source": []
  },
  {
   "cell_type": "markdown",
   "metadata": {},
   "source": [
    "#Option C\n",
    "\n",
    "1. Use a list accumulator.\n",
    "2. For each item in L, if the item begins with ch, add it to the accumulator.\n",
    "3. Return the length of the accumulator."
   ]
  },
  {
   "cell_type": "code",
   "execution_count": 39,
   "metadata": {},
   "outputs": [],
   "source": [
    "def count_startswith(L,ch):\n",
    "    \n",
    "    acc = []\n",
    "    \n",
    "    for item in L:\n",
    "        if item[0] == ch:\n",
    "            acc.append(item)\n",
    "            \n",
    "    return len(acc)"
   ]
  },
  {
   "cell_type": "code",
   "execution_count": 40,
   "metadata": {},
   "outputs": [
    {
     "data": {
      "text/plain": [
       "2"
      ]
     },
     "execution_count": 40,
     "metadata": {},
     "output_type": "execute_result"
    }
   ],
   "source": [
    "count_startswith(['honey','horse','shoe'],'h')"
   ]
  },
  {
   "cell_type": "code",
   "execution_count": 41,
   "metadata": {},
   "outputs": [
    {
     "data": {
      "text/plain": [
       "1"
      ]
     },
     "execution_count": 41,
     "metadata": {},
     "output_type": "execute_result"
    }
   ],
   "source": [
    "count_startswith(['money','morse','shoe'],'s')"
   ]
  },
  {
   "cell_type": "code",
   "execution_count": 42,
   "metadata": {},
   "outputs": [
    {
     "data": {
      "text/plain": [
       "0"
      ]
     },
     "execution_count": 42,
     "metadata": {},
     "output_type": "execute_result"
    }
   ],
   "source": [
    "count_startswith(['hat','rose'],'p')"
   ]
  },
  {
   "cell_type": "code",
   "execution_count": null,
   "metadata": {},
   "outputs": [],
   "source": [
    "#Option C is correct and describes the algorithm perfectly"
   ]
  }
 ],
 "metadata": {
  "kernelspec": {
   "display_name": "Python 3",
   "language": "python",
   "name": "python3"
  },
  "language_info": {
   "codemirror_mode": {
    "name": "ipython",
    "version": 3
   },
   "file_extension": ".py",
   "mimetype": "text/x-python",
   "name": "python",
   "nbconvert_exporter": "python",
   "pygments_lexer": "ipython3",
   "version": "3.6.4"
  }
 },
 "nbformat": 4,
 "nbformat_minor": 2
}
