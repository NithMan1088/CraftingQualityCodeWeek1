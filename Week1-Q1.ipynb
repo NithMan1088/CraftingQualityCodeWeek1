{
 "cells": [
  {
   "cell_type": "markdown",
   "metadata": {},
   "source": [
    "1).To determine whether a string is a palindrome, the third algorithm we explored was:\n",
    "\n",
    "Compare the first character to the last character, the second to the second last, and so on.\n",
    "Stop when the middle of the string is reached. (That means that the middle character is not compared with anything.)"
   ]
  },
  {
   "cell_type": "code",
   "execution_count": 72,
   "metadata": {},
   "outputs": [],
   "source": [
    "#Option A\n",
    "\n",
    "def is_palindrome_v3(s):\n",
    "    for i in range(len(s)//2):\n",
    "        if s[i] != s[len(s)-1]:\n",
    "            return False\n",
    "        return True"
   ]
  },
  {
   "cell_type": "code",
   "execution_count": 57,
   "metadata": {},
   "outputs": [
    {
     "data": {
      "text/plain": [
       "True"
      ]
     },
     "execution_count": 57,
     "metadata": {},
     "output_type": "execute_result"
    }
   ],
   "source": [
    "#Examples\n",
    "\n",
    "is_palindrome_v3('malayalam')"
   ]
  },
  {
   "cell_type": "code",
   "execution_count": 58,
   "metadata": {},
   "outputs": [
    {
     "data": {
      "text/plain": [
       "True"
      ]
     },
     "execution_count": 58,
     "metadata": {},
     "output_type": "execute_result"
    }
   ],
   "source": [
    "is_palindrome_v3('noon')"
   ]
  },
  {
   "cell_type": "code",
   "execution_count": 59,
   "metadata": {},
   "outputs": [],
   "source": [
    "is_palindrome_v3('a')\n",
    "\n",
    "#We get no output for this, Option A is wrong."
   ]
  },
  {
   "cell_type": "markdown",
   "metadata": {},
   "source": [
    "Explanation:\n",
    "\n",
    "        s = 'malayalam'\n",
    "        len(s) = 9\n",
    "        len(s)//2 = 4\n",
    "            i ranges from (0,4)\n",
    "            \n",
    "The 'if' loop works in the following way:\n",
    "\n",
    "        'malayalam'[0] != 'malayalam'[8]\n",
    "                'm'   != 'm'  #False\n",
    "          .\n",
    "          .\n",
    "          \n",
    "          'malayalam'[3] != 'malayalam'[5]\n",
    "                'a'   != 'a'  #False\n",
    "\n",
    "Lets check with for a single word i.e is_palindrome_v3('a'):\n",
    "\n",
    "        s = 'a'\n",
    "        len(s) = 1\n",
    "        len(s)//2 = 0\n",
    "            i ranges from (0,0)\n",
    "            \n",
    "The 'if' loop doesn't get to work at all, Therefore we do not get an output.\n",
    "\n",
    "Hence option A is wrong.\n",
    "\n"
   ]
  },
  {
   "cell_type": "code",
   "execution_count": 84,
   "metadata": {},
   "outputs": [],
   "source": [
    "#Option B\n",
    "\n",
    "def is_palindrome_v3(s):\n",
    "    for i in range(len(s)//2 + 1):\n",
    "        if s[i] != s[len(s)-i - 1]:\n",
    "            return False\n",
    "        return True"
   ]
  },
  {
   "cell_type": "code",
   "execution_count": 64,
   "metadata": {},
   "outputs": [
    {
     "data": {
      "text/plain": [
       "True"
      ]
     },
     "execution_count": 64,
     "metadata": {},
     "output_type": "execute_result"
    }
   ],
   "source": [
    "#Examples\n",
    "\n",
    "is_palindrome_v3('racecar')"
   ]
  },
  {
   "cell_type": "code",
   "execution_count": 65,
   "metadata": {},
   "outputs": [
    {
     "data": {
      "text/plain": [
       "True"
      ]
     },
     "execution_count": 65,
     "metadata": {},
     "output_type": "execute_result"
    }
   ],
   "source": [
    "is_palindrome_v3('noon')"
   ]
  },
  {
   "cell_type": "code",
   "execution_count": 66,
   "metadata": {},
   "outputs": [
    {
     "data": {
      "text/plain": [
       "True"
      ]
     },
     "execution_count": 66,
     "metadata": {},
     "output_type": "execute_result"
    }
   ],
   "source": [
    "is_palindrome_v3('m')"
   ]
  },
  {
   "cell_type": "markdown",
   "metadata": {},
   "source": [
    "Explanation:\n",
    "\n",
    "        s = 'racecar'\n",
    "        len(s) = 7\n",
    "        len(s)//2 = 3\n",
    "            i ranges from (0,4)\n",
    "            \n",
    "The 'if' loop works in the following way:\n",
    "\n",
    "        'racecar'[0] != 'racecar'[6]            (7 - 0 - 1)\n",
    "                'r'   != 'r'  #False\n",
    "          .                                     (7 - 1 - 1)\n",
    "          .                                     (7 - 2 - 1)\n",
    "          \n",
    "        'racecar'[3] != 'racecar'[3]            (7 - 3 - 1)\n",
    "                'e'   != 'e'  #False\n",
    "               \n",
    "Lets check with for a single word i.e is_palindrome_v3('a'):\n",
    "\n",
    "        s = 'a'\n",
    "        len(s) = 1\n",
    "        len(s)//2 = 0\n",
    "            i ranges from (0,1)\n",
    "            \n",
    "The 'if' loop works in the following way:\n",
    "\n",
    "        'a'[0] != 'a'[0]\n",
    "           'a' != 'a'   #False\n",
    "           \n",
    "Option B is correct"
   ]
  },
  {
   "cell_type": "code",
   "execution_count": 91,
   "metadata": {},
   "outputs": [],
   "source": [
    "#Option C\n",
    "\n",
    "def is_palindrome_v3(s):\n",
    "    j = len(s) - 1\n",
    "    for i in range(len(s)//2):\n",
    "        if s[i] != s[j - i]:\n",
    "            return False\n",
    "        return True"
   ]
  },
  {
   "cell_type": "code",
   "execution_count": 78,
   "metadata": {},
   "outputs": [
    {
     "data": {
      "text/plain": [
       "True"
      ]
     },
     "execution_count": 78,
     "metadata": {},
     "output_type": "execute_result"
    }
   ],
   "source": [
    "#Examples\n",
    "\n",
    "is_palindrome_v3('racecar')"
   ]
  },
  {
   "cell_type": "code",
   "execution_count": 81,
   "metadata": {},
   "outputs": [],
   "source": [
    "is_palindrome_v3('m')\n",
    "\n",
    "#this doesn't return an output, therefore Option C is incorrect"
   ]
  },
  {
   "cell_type": "code",
   "execution_count": 88,
   "metadata": {},
   "outputs": [],
   "source": [
    "#Option D\n",
    "\n",
    "def is_palindrome_v3(s):\n",
    "    for i in range(len(s)//2):\n",
    "        if s[i] != s[len(s) - i - 1]:\n",
    "            return False\n",
    "        return True"
   ]
  },
  {
   "cell_type": "code",
   "execution_count": 89,
   "metadata": {},
   "outputs": [],
   "source": [
    "#Examples\n",
    "\n",
    "is_palindrome_v3('m')"
   ]
  },
  {
   "cell_type": "markdown",
   "metadata": {},
   "source": [
    "The above example does not return an output because the range lies between(0,0), therefore the 'if' loop doesn't start at all.\n",
    "\n",
    "Option D is not correct"
   ]
  }
 ],
 "metadata": {
  "kernelspec": {
   "display_name": "Python 3",
   "language": "python",
   "name": "python3"
  },
  "language_info": {
   "codemirror_mode": {
    "name": "ipython",
    "version": 3
   },
   "file_extension": ".py",
   "mimetype": "text/x-python",
   "name": "python",
   "nbconvert_exporter": "python",
   "pygments_lexer": "ipython3",
   "version": "3.6.4"
  }
 },
 "nbformat": 4,
 "nbformat_minor": 2
}
